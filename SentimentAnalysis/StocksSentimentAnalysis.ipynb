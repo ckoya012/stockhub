{
  "nbformat": 4,
  "nbformat_minor": 0,
  "metadata": {
    "colab": {
      "name": "StocksSentimentAnalysis.ipynb",
      "provenance": [],
      "collapsed_sections": []
    },
    "kernelspec": {
      "name": "python3",
      "display_name": "Python 3"
    }
  },
  "cells": [
    {
      "cell_type": "code",
      "metadata": {
        "id": "OFsiLJxABrdu"
      },
      "source": [
        "import tweepy\n",
        "from textblob import TextBlob\n",
        "from wordcloud import WordCloud\n",
        "import pandas as pd\n",
        "import numpy as np\n",
        "import re\n",
        "import matplotlib.pyplot as plt\n",
        "plt.style.use('fivethirtyeight')\n"
      ],
      "execution_count": 1,
      "outputs": []
    },
    {
      "cell_type": "code",
      "metadata": {
        "id": "qDgmHMFFFlgj"
      },
      "source": [
        "# Twitter Api Credentials\n",
        "consumerKey = 'MJ3DzrUvxlnkwta1IOgB7ddnv'\n",
        "consumerSecret = '2mFF9XrV2QF12WgsSfteZO78ZJ0pD1aQvu7U89S2EnSbpSbxhn'\n",
        "accessToken = '1358118143080730630-f824YAnQiUjSZsftXTNspoANjAJl8O'\n",
        "accessTokenSecret = 'g5ZkuIRQpDIuxBb8n1HhpTRnmNfKkoQLtENSPr8EhU64J'\n"
      ],
      "execution_count": 2,
      "outputs": []
    },
    {
      "cell_type": "code",
      "metadata": {
        "id": "CQecI3WdF4sM"
      },
      "source": [
        "# Create the authentication object\n",
        "authenticate = tweepy.OAuthHandler(consumerKey, consumerSecret) \n",
        "    \n",
        "# Set the access token and access token secret\n",
        "authenticate.set_access_token(accessToken, accessTokenSecret) \n",
        "    \n",
        "# Creating the API object while passing in auth information\n",
        "api = tweepy.API(authenticate, wait_on_rate_limit = True)\n"
      ],
      "execution_count": 3,
      "outputs": []
    },
    {
      "cell_type": "code",
      "metadata": {
        "colab": {
          "base_uri": "https://localhost:8080/"
        },
        "id": "P3INhG3SF--b",
        "outputId": "091e8408-319c-44c9-8045-6428e059d2f0"
      },
      "source": [
        "# Extract 100 tweets from the twitter user\n",
        "#posts = api.user_timeline(screen_name=\"BillGates\", count = 100, lang =\"en\", tweet_mode=\"extended\")\n",
        "\n",
        "list_of_stocks = ['AACG', 'AACQ', 'AACQU', 'AACQW', 'AAL']\n",
        "tweets_dict = {}\n",
        "tweets_list = []\n",
        "\n",
        "# Set up the dictionary for all stocks\n",
        "for stock in list_of_stocks:   \n",
        "  tweets_dict[stock] = []\n",
        "  for tweet in tweepy.Cursor(api.search, q=stock, rpp=100).items(100):\n",
        "    tweets_dict[stock].append(tweet.text)\n",
        "\n",
        "# Set up array for just TSLA\n",
        "for tweet in tweepy.Cursor(api.search, q='TSLA', rpp=100).items(100):\n",
        "    tweets_list.append(tweet.text)\n",
        "\n",
        "#tweets_dict\n",
        "tweets_list"
      ],
      "execution_count": 4,
      "outputs": [
        {
          "output_type": "execute_result",
          "data": {
            "text/plain": [
              "['RT @ICannot_Enough: Premium brands with U.S. sales &gt; 200,000 vehicles per year:\\n\\n2017: Mercedes, BMW, Lexus, Audi, Buick\\n\\n2018: Mercedes, B…',\n",
              " 'Stocks to watch Feb. 8 thru Feb. 12 $GME $NFLX $SPY $QQQ $TSLA $NIO $SNOW $BAC $WFC $BRO $VIRT $SNDL $HITIF &amp;… https://t.co/c1wMDjxo2w',\n",
              " 'RT @Dividend_Dollar: Over the next 5 years, what industry do you think will outperform most?\\n\\nEVs\\n$TSLA\\n$NIO\\n$WKHS\\n$CCIV\\n\\nCashless Pymt\\n$V…',\n",
              " 'RT @LLCDC1: I’m fully serious. \\n\\nI’ve heard normies saying “bro, Elon Musks coin $DOGE is going to be big, next TSLA, buy it”. \\n\\nWont end w…',\n",
              " 'RT @TokenRev: I think I will dump all my #Crypto plus #TSLA to hold $doge #dogecoin . What do you say @elonmusk ?',\n",
              " 'RT @BarbaraCormac: Just a reminder that $TSLA is still undervalued.',\n",
              " 'I think I will dump all my #Crypto plus #TSLA to hold $doge #dogecoin . What do you say @elonmusk ?',\n",
              " 'RT @LLCDC1: I’m fully serious. \\n\\nI’ve heard normies saying “bro, Elon Musks coin $DOGE is going to be big, next TSLA, buy it”. \\n\\nWont end w…',\n",
              " 'RT @InvestSnowflake: These are our top picks for 2021 $PACB, $CSTL, $NVTA $CRSP, $APPS, $MGNI, $ROKU, $TSLA, $PYPL, $SHOP, $SE $SQ, $SKLZ,…',\n",
              " 'RT @Dividend_Dollar: Over the next 5 years, what industry do you think will outperform most?\\n\\nEVs\\n$TSLA\\n$NIO\\n$WKHS\\n$CCIV\\n\\nCashless Pymt\\n$V…',\n",
              " 'RT @LOBBSBY: エセARK=https://t.co/bS2Wbj0YaJ.roku.etc🤡 https://t.co/qKxegxDiBd',\n",
              " '@esacrosa @Mercadolibre A Meli le vengo poniendo desde que estaba a 300, TSLA y GOOGL me acompañaron, la única que no me funco fue NVDA',\n",
              " '@LSDinmycoffee @cryptunez \"Elon and $Doge are one and the same entity. They are the names given to the different as… https://t.co/xOIxYAX8IM',\n",
              " '@cryptunez \"Elon and $Doge are one and the same entity. They are the names given to the different aspects of the al… https://t.co/guFUIBBkmX',\n",
              " 'RT @JayinShanghai: [PART 1] First auto media to enter the second production line of Tesla Gigafactory Shanghai, Check out the China-Made Mo…',\n",
              " '@elonmusk \"Elon and $Doge are one and the same entity. They are the names given to the different aspects of the all… https://t.co/c6hrx1d4uH',\n",
              " 'RT @Dividend_Dollar: Over the next 5 years, what industry do you think will outperform most?\\n\\nEVs\\n$TSLA\\n$NIO\\n$WKHS\\n$CCIV\\n\\nCashless Pymt\\n$V…',\n",
              " 'RT @LLCDC1: I’m fully serious. \\n\\nI’ve heard normies saying “bro, Elon Musks coin $DOGE is going to be big, next TSLA, buy it”. \\n\\nWont end w…',\n",
              " '\"Elon and $Doge are one and the same entity. They are the names given to the different aspects of the all-pervading… https://t.co/fhSB2xbtAl',\n",
              " 'RT @BarbaraCormac: Just a reminder that $TSLA is still undervalued.',\n",
              " 'RT @LLCDC1: I’m fully serious. \\n\\nI’ve heard normies saying “bro, Elon Musks coin $DOGE is going to be big, next TSLA, buy it”. \\n\\nWont end w…',\n",
              " '@anthonypesec @elonmusk Rip u shorting tsla since 2015?  Haterssss https://t.co/460zcRAetf',\n",
              " 'RT @DCDOWORK: How many cars can you control with a phone? Not many, $NIO you can! Accumulate and go long we have only just begun.  $TSLA $A…',\n",
              " '$TSLA https://t.co/zz0OwqbZz2',\n",
              " 'RT @stocktalkweekly: @elonmusk The final step is a $DOGE #dogecoin discount for $TSLA products. \\n\\nUtility. You have the power to grant it.',\n",
              " 'RT @kirillklip: #TNRGold $TNR.v Royalty Holding On #MarianaLithium Ganfeng JV: The End Of The ICE Age - #Tesla $25,000 Electric Car May Com…',\n",
              " 'Bräuchte nochmal gut +150% bei $TSLA dann könnt ich wirklich nachhaltig in Pension gehen. \\U0001f97a🤣',\n",
              " 'Churchill Capital Corp IV Shares Rise On \\u2066@LucidMotors\\u2069 \\u2066@CNBC\\u2069 Appearance: What Investors Should Know $CCIV $TSLA… https://t.co/zUlUlRcI1n',\n",
              " 'RT @dennisc230: Charts of interest after a quick review.\\n\\n$TSM $PLUG $TSLA $ZI $NVCR $CRWD $ZS $HOLX $FLGT',\n",
              " 'RT @Dividend_Dollar: Over the next 5 years, what industry do you think will outperform most?\\n\\nEVs\\n$TSLA\\n$NIO\\n$WKHS\\n$CCIV\\n\\nCashless Pymt\\n$V…',\n",
              " 'RT @LLCDC1: I’m fully serious. \\n\\nI’ve heard normies saying “bro, Elon Musks coin $DOGE is going to be big, next TSLA, buy it”. \\n\\nWont end w…',\n",
              " '$TSLA Hits 1k soon imo @TrendSpider https://t.co/iu3376qtT7',\n",
              " 'RT @LLCDC1: I’m fully serious. \\n\\nI’ve heard normies saying “bro, Elon Musks coin $DOGE is going to be big, next TSLA, buy it”. \\n\\nWont end w…',\n",
              " 'RT @GoingGreenPicks: $HTSC, Huge EV Nickel Sulphide play. $TSLA and $GM EV battery cells are made 90% out of Nickel Sulphide. Nickel is the…',\n",
              " '@SunPacificPower 🚀 $SNPW\\n✨80% support solar on public land.\\n✨78% support federal funding to put solar panels on the… https://t.co/CE4CRK6sxh',\n",
              " 'how do you guys like my new custom wall piece \\U0001f929😉🚀 $TSLA https://t.co/TO6sLiltHx',\n",
              " 'An investing flaw I have is that I punish winners.\\n\\nExample - $TSLA, $PINS, $PTON \\n\\nThankfully have large gains on… https://t.co/mCyTd93QZh',\n",
              " 'RT @ajtourville: Tesla Twitter &amp; YT are largely responsible for providing me with accurate information which afforded me the confidence to…',\n",
              " '5 Genius Ways to Minimize Risk As An Options Trader\\n\\nhttps://t.co/3SikjQa3oS\\n\\n$spy $aapl $tsla',\n",
              " 'RT @JayinShanghai: [PART 1] First auto media to enter the second production line of Tesla Gigafactory Shanghai, Check out the China-Made Mo…',\n",
              " 'RT @LLCDC1: I’m fully serious. \\n\\nI’ve heard normies saying “bro, Elon Musks coin $DOGE is going to be big, next TSLA, buy it”. \\n\\nWont end w…',\n",
              " 'RT @BarbaraCormac: I know it’s tempting to sell Tesla at all time highs... but here me out, imagine selling apple stock just after the iPho…',\n",
              " 'RT @LLCDC1: I’m fully serious. \\n\\nI’ve heard normies saying “bro, Elon Musks coin $DOGE is going to be big, next TSLA, buy it”. \\n\\nWont end w…',\n",
              " \"@ajtourville I'm the other way round, went all in $tsla 2015-2019, found the community on Twitter &amp; YouTube in 2020… https://t.co/JytwAbgYTK\",\n",
              " 'RT @Dividend_Dollar: Over the next 5 years, what industry do you think will outperform most?\\n\\nEVs\\n$TSLA\\n$NIO\\n$WKHS\\n$CCIV\\n\\nCashless Pymt\\n$V…',\n",
              " 'RT @WPipperger: \"Contrary to popular belief, Elon Musk\\xa0did not start Tesla.\"\\n\\nEducation is important!\\n$TSLA $TSLAQ\\nTesla founders Martin Eb…',\n",
              " 'RT @LLCDC1: I’m fully serious. \\n\\nI’ve heard normies saying “bro, Elon Musks coin $DOGE is going to be big, next TSLA, buy it”. \\n\\nWont end w…',\n",
              " 'RT @princemaraf: @elonmusk WE NEED A RETWEET OF THIS! $amc $doge $tsla https://t.co/bULIP4Qt4q',\n",
              " '@racecrb @Gambiste1 I think $TSLA isn‘t quite there yet with the branding. It will still take some years.',\n",
              " 'Week review\\nLong positions : $aapl, $tsla, $atos, #bitcoin , #ethereum, $goev, $riot, $mara, $arkk, $arkg, $f\\nShort position : $vxx',\n",
              " 'RT @BarbaraCormac: Just a reminder that $TSLA is still undervalued.',\n",
              " 'RT @LLCDC1: I’m fully serious. \\n\\nI’ve heard normies saying “bro, Elon Musks coin $DOGE is going to be big, next TSLA, buy it”. \\n\\nWont end w…',\n",
              " '@WholeMarsBlog That’s my man! You are a tsla fans and not tslq and doq!',\n",
              " \"\\u2066@Tesla\\u2069 Rumored To Start #SemiProduction In July, Aiming For 2,500 Units By Year's End $TSLA via \\u2066@Benzinga\\u2069  https://t.co/7w6o9b9uH4\",\n",
              " '@LuoshengPeng @LucidMotors Why you don’t mention $TSLA btw the EV stocks ?',\n",
              " 'RT @GoingGreenPicks: $HTSC, EV Nickel battery play. $TSLA and $GM use 90% Nickel Sulphide in their EV battery cells. $HTSC assayed 3.5% Nic…',\n",
              " '#TNRGold $TNR.v Royalty Holding On #MarianaLithium Ganfeng JV: The End Of The ICE Age - #Tesla $25,000 Electric Car… https://t.co/iF6QtqJj4C',\n",
              " 'RT @BarbaraCormac: Just a reminder that $TSLA is still undervalued.',\n",
              " 'RT @camerondallas: Next week is a new one, I’m going into it optimistic, will focus on $tsla probs, we shall see what happens. It will 100%…',\n",
              " 'RT @camerondallas: Robinhood would never do that to $tsla, they would get fuckin wrecked',\n",
              " 'RT @teslaunivrse: $TSLA is going to pay for my TESLA \\U0001f6fb https://t.co/Y2LLVfLi2y',\n",
              " 'RT @GerberKawasaki: Love Cathy. She is great, so smart. Check this interview out. $TSLA #tesla $ARKF https://t.co/F2uoDVyNl5',\n",
              " 'RT @GerberKawasaki: The “ICE age” is coming to an end. Battery technology, are you in ? $LIT $TSLA #tesla  https://t.co/nV5nLX9eqZ',\n",
              " 'Mielenkiintoista luettavaa sunnuntain lehdessä: Elon Muskin yrittäjätarina. Hän ja PayPal mahdollisti maksamisen ve… https://t.co/pxdKFBZxP1',\n",
              " 'RT @WPipperger: \"Tesla will likely unveil a smaller electric vehicle to be designed in China in November 2021 at the Guangzhou Auto Show, C…',\n",
              " 'RT @vincent13031925: You should be proud of the company you are investing in - $TSLA \\nhttps://t.co/bf45fLtDds',\n",
              " 'Do  @Grimezsz &amp; @elonmusk have the same agent? $TSLA',\n",
              " '@LomahCrypto He just loves the strong community aspect of it. Which is what drives Doge and has for years. Look at… https://t.co/T6mN62E6Rp',\n",
              " 'RT @stevenmarkryan: https://t.co/JdCBX4Vd8R - Sandy Munro &amp; Elon Musk (Tesla Engineering Deep Dive)\\n\\nNEW\\n\\n$TSLA https://t.co/RneNGf74ZM',\n",
              " '意志が弱いから自習室契約してロッカーも申し込んで、手ぶらで1時間だけでもって気軽にいける環境を作ったのはいい判断やったと思う。結局行ったら2時間は頑張れるし！\\nって事で手ぶらで勉強してきまーす🚶\\u200d♂️ #FP1級\\u3000#FP2級',\n",
              " 'RT @ElonMuskLegacy: @Kristennetten @elonmusk @itsALLrisky Follow the best voices for $TSLA investors talk. 📈❤️💰❤️🚘🚀\\n\\n https://t.co/hrUuDrpu…',\n",
              " 'RT @ev_maestro: @elonmusk @itsALLrisky Ok, enough already... Now go and invest in some $TSLA stock instead 😉',\n",
              " 'RT @JonathanGuito: The first stock I ever bought was $TSLA in Aug 2018, three weeks before I got my Model 3. I put in about a quarter of my…',\n",
              " 'RT @ElonMuskLegacy: @elonmusk @Dogecoinrich Follow the best voices for $TSLA investors talk. 📈❤️💰❤️🚘🚀\\n\\n https://t.co/hrUuDrpuUx \\n@Tesla #Te…',\n",
              " \"RT @smallcappick: @vergecurrency\\n let's get the mainstream publications to publish amazing tech that @VoiceLife_inc\\n has built &amp; how #XVG c…\",\n",
              " '@elonmusk Yesssss tsla to the moon',\n",
              " 'RT @LLCDC1: I’m fully serious. \\n\\nI’ve heard normies saying “bro, Elon Musks coin $DOGE is going to be big, next TSLA, buy it”. \\n\\nWont end w…',\n",
              " 'SmartOptions® Unusual Activity Alert\\n(Delayed)\\n\\n$TSLA $800 Calls\\n06/18/2021 Exp\\n\\nTrade Volume: 310 Contracts\\n\\n$5,28… https://t.co/xnfecqASfR',\n",
              " 'RT @acardenasfx: $TSLA se ha convertido en un icono del rally y la burbuja en los mercados actuales. Otro ejemplo de activo con increíble c…',\n",
              " \"RT @JosephVVallace: My parents took out a $50K loan from their bank last year and bought $tsla pre-split at $500 each share.  They're happy…\",\n",
              " '$DOGE $Tsla #DogecoinToTheMoon #ElonDOGE #dogeto1dollar #PENNYSTOCKS https://t.co/3vevvAgmXO',\n",
              " 'RT @GerberKawasaki: How can anyone not say teslas are not the safest most advanced car ever made. There are so many safety features in sett…',\n",
              " '$TSLA 🤷🏼\\u200d♂️ https://t.co/x0cEnAWwqC',\n",
              " 'RT @stevenmarkryan: https://t.co/JdCBX4Vd8R - Sandy Munro &amp; Elon Musk (Tesla Engineering Deep Dive)\\n\\nNEW\\n\\n$TSLA https://t.co/RneNGf74ZM',\n",
              " '@Kristennetten @elonmusk @itsALLrisky Follow the best voices for $TSLA investors talk. 📈❤️💰❤️🚘🚀… https://t.co/iWHoROsU56',\n",
              " 'RT @LLCDC1: I’m fully serious. \\n\\nI’ve heard normies saying “bro, Elon Musks coin $DOGE is going to be big, next TSLA, buy it”. \\n\\nWont end w…',\n",
              " '@elonmusk @itsALLrisky Ok, enough already... Now go and invest in some $TSLA stock instead 😉',\n",
              " 'RT @JonathanGuito: The first stock I ever bought was $TSLA in Aug 2018, three weeks before I got my Model 3. I put in about a quarter of my…',\n",
              " '@elonmusk @Dogecoinrich Follow the best voices for $TSLA investors talk. 📈❤️💰❤️🚘🚀\\n\\n https://t.co/hrUuDrpuUx \\n@Tesla #Tesla #ElonMusk',\n",
              " 'RT @stevenmarkryan: https://t.co/zoBgjTxZCL - \\nCathie Wood (Ark Invest) on Tesla, Short Sellers &amp; Bitcoin\\n\\nNEW\\n\\n$TSLA #Bitcoin @ArkInvest #…',\n",
              " 'Follow the best voices for $TSLA investors talk. 📈❤️💰❤️🚘🚀\\n\\n https://t.co/hrUuDrpuUx \\n@Tesla #Tesla #ElonMusk',\n",
              " 'Tesla, Inc. (TSLA) surprised the market with Q4 result. Goldman Sachs changed the rating to Outperform, as Tesla, I… https://t.co/K326arMmdn',\n",
              " 'RT @BarbaraCormac: $TSLA traders on     $TSLA traders on \\nWeekends                 Trading Days https://t.co/QGOYix9FHR',\n",
              " 'RT @LLCDC1: I’m fully serious. \\n\\nI’ve heard normies saying “bro, Elon Musks coin $DOGE is going to be big, next TSLA, buy it”. \\n\\nWont end w…',\n",
              " 'RT @LLCDC1: I’m fully serious. \\n\\nI’ve heard normies saying “bro, Elon Musks coin $DOGE is going to be big, next TSLA, buy it”. \\n\\nWont end w…',\n",
              " 'I’m fully serious. \\n\\nI’ve heard normies saying “bro, Elon Musks coin $DOGE is going to be big, next TSLA, buy it”. \\n\\nWont end well',\n",
              " 'RT @GoingGreenPicks: $HTSC, EV Nickel battery play. $TSLA and $GM use 90% Nickel Sulphide in their EV battery cells. $HTSC assayed 3.5% Nic…',\n",
              " '1月記録\\n新規買い: $ZI $ZM \\n買い増し: $AMD\\n売り: $ADBE $TSLA',\n",
              " 'RT @GoingGreenPicks: $HTSC, EV Nickel battery play. $TSLA and $GM use 90% Nickel Sulphide in their EV battery cells. $HTSC assayed 3.5% Nic…',\n",
              " 'RT @GoingGreenPicks: $HTSC, Huge EV Nickel Sulphide play. $TSLA and $GM EV battery cells are made 90% out of Nickel Sulphide. Nickel is the…']"
            ]
          },
          "metadata": {
            "tags": []
          },
          "execution_count": 4
        }
      ]
    },
    {
      "cell_type": "code",
      "metadata": {
        "colab": {
          "base_uri": "https://localhost:8080/",
          "height": 204
        },
        "id": "aRtZntjna5fT",
        "outputId": "28736666-aec8-4361-e901-eb5417cf6c8b"
      },
      "source": [
        "# Create a dataframe with a column called Tweets\n",
        "#df = pd.DataFrame(tweets_dict.items(), columns=['Stock','Tweets'])\n",
        "df = pd.DataFrame(tweets_list, columns=['Tweets'])\n",
        "# Show the first 5 rows of data\n",
        "df.head()\n"
      ],
      "execution_count": 5,
      "outputs": [
        {
          "output_type": "execute_result",
          "data": {
            "text/html": [
              "<div>\n",
              "<style scoped>\n",
              "    .dataframe tbody tr th:only-of-type {\n",
              "        vertical-align: middle;\n",
              "    }\n",
              "\n",
              "    .dataframe tbody tr th {\n",
              "        vertical-align: top;\n",
              "    }\n",
              "\n",
              "    .dataframe thead th {\n",
              "        text-align: right;\n",
              "    }\n",
              "</style>\n",
              "<table border=\"1\" class=\"dataframe\">\n",
              "  <thead>\n",
              "    <tr style=\"text-align: right;\">\n",
              "      <th></th>\n",
              "      <th>Tweets</th>\n",
              "    </tr>\n",
              "  </thead>\n",
              "  <tbody>\n",
              "    <tr>\n",
              "      <th>0</th>\n",
              "      <td>RT @ICannot_Enough: Premium brands with U.S. s...</td>\n",
              "    </tr>\n",
              "    <tr>\n",
              "      <th>1</th>\n",
              "      <td>Stocks to watch Feb. 8 thru Feb. 12 $GME $NFLX...</td>\n",
              "    </tr>\n",
              "    <tr>\n",
              "      <th>2</th>\n",
              "      <td>RT @Dividend_Dollar: Over the next 5 years, wh...</td>\n",
              "    </tr>\n",
              "    <tr>\n",
              "      <th>3</th>\n",
              "      <td>RT @LLCDC1: I’m fully serious. \\n\\nI’ve heard ...</td>\n",
              "    </tr>\n",
              "    <tr>\n",
              "      <th>4</th>\n",
              "      <td>RT @TokenRev: I think I will dump all my #Cryp...</td>\n",
              "    </tr>\n",
              "  </tbody>\n",
              "</table>\n",
              "</div>"
            ],
            "text/plain": [
              "                                              Tweets\n",
              "0  RT @ICannot_Enough: Premium brands with U.S. s...\n",
              "1  Stocks to watch Feb. 8 thru Feb. 12 $GME $NFLX...\n",
              "2  RT @Dividend_Dollar: Over the next 5 years, wh...\n",
              "3  RT @LLCDC1: I’m fully serious. \\n\\nI’ve heard ...\n",
              "4  RT @TokenRev: I think I will dump all my #Cryp..."
            ]
          },
          "metadata": {
            "tags": []
          },
          "execution_count": 5
        }
      ]
    },
    {
      "cell_type": "code",
      "metadata": {
        "colab": {
          "base_uri": "https://localhost:8080/",
          "height": 419
        },
        "id": "Fl-qmfcoa8RL",
        "outputId": "518e1e3f-1386-4bf0-cd64-f5197dcf2c99"
      },
      "source": [
        "# Create a function to clean the tweets\n",
        "def cleanTxt(text):\n",
        " text = re.sub('@[A-Za-z0–9]+', '', text) #Removing @mentions\n",
        " text = re.sub('#', '', text) # Removing '#' hash tag\n",
        " text = re.sub('RT[\\s]+', '', text) # Removing RT\n",
        " text = re.sub('https?:\\/\\/\\S+', '', text) # Removing hyperlink\n",
        " \n",
        " return text\n",
        "\n",
        "\n",
        "# Clean the tweets\n",
        "df['Tweets'] = df['Tweets'].apply(cleanTxt)\n",
        "\n",
        "# Show the cleaned tweets\n",
        "df\n"
      ],
      "execution_count": 6,
      "outputs": [
        {
          "output_type": "execute_result",
          "data": {
            "text/html": [
              "<div>\n",
              "<style scoped>\n",
              "    .dataframe tbody tr th:only-of-type {\n",
              "        vertical-align: middle;\n",
              "    }\n",
              "\n",
              "    .dataframe tbody tr th {\n",
              "        vertical-align: top;\n",
              "    }\n",
              "\n",
              "    .dataframe thead th {\n",
              "        text-align: right;\n",
              "    }\n",
              "</style>\n",
              "<table border=\"1\" class=\"dataframe\">\n",
              "  <thead>\n",
              "    <tr style=\"text-align: right;\">\n",
              "      <th></th>\n",
              "      <th>Tweets</th>\n",
              "    </tr>\n",
              "  </thead>\n",
              "  <tbody>\n",
              "    <tr>\n",
              "      <th>0</th>\n",
              "      <td>_Enough: Premium brands with U.S. sales &amp;gt; 2...</td>\n",
              "    </tr>\n",
              "    <tr>\n",
              "      <th>1</th>\n",
              "      <td>Stocks to watch Feb. 8 thru Feb. 12 $GME $NFLX...</td>\n",
              "    </tr>\n",
              "    <tr>\n",
              "      <th>2</th>\n",
              "      <td>_Dollar: Over the next 5 years, what industry ...</td>\n",
              "    </tr>\n",
              "    <tr>\n",
              "      <th>3</th>\n",
              "      <td>1: I’m fully serious. \\n\\nI’ve heard normies s...</td>\n",
              "    </tr>\n",
              "    <tr>\n",
              "      <th>4</th>\n",
              "      <td>: I think I will dump all my Crypto plus TSLA ...</td>\n",
              "    </tr>\n",
              "    <tr>\n",
              "      <th>...</th>\n",
              "      <td>...</td>\n",
              "    </tr>\n",
              "    <tr>\n",
              "      <th>95</th>\n",
              "      <td>I’m fully serious. \\n\\nI’ve heard normies sayi...</td>\n",
              "    </tr>\n",
              "    <tr>\n",
              "      <th>96</th>\n",
              "      <td>: $HTSC, EV Nickel battery play. $TSLA and $GM...</td>\n",
              "    </tr>\n",
              "    <tr>\n",
              "      <th>97</th>\n",
              "      <td>1月記録\\n新規買い: $ZI $ZM \\n買い増し: $AMD\\n売り: $ADBE $TSLA</td>\n",
              "    </tr>\n",
              "    <tr>\n",
              "      <th>98</th>\n",
              "      <td>: $HTSC, EV Nickel battery play. $TSLA and $GM...</td>\n",
              "    </tr>\n",
              "    <tr>\n",
              "      <th>99</th>\n",
              "      <td>: $HTSC, Huge EV Nickel Sulphide play. $TSLA a...</td>\n",
              "    </tr>\n",
              "  </tbody>\n",
              "</table>\n",
              "<p>100 rows × 1 columns</p>\n",
              "</div>"
            ],
            "text/plain": [
              "                                               Tweets\n",
              "0   _Enough: Premium brands with U.S. sales &gt; 2...\n",
              "1   Stocks to watch Feb. 8 thru Feb. 12 $GME $NFLX...\n",
              "2   _Dollar: Over the next 5 years, what industry ...\n",
              "3   1: I’m fully serious. \\n\\nI’ve heard normies s...\n",
              "4   : I think I will dump all my Crypto plus TSLA ...\n",
              "..                                                ...\n",
              "95  I’m fully serious. \\n\\nI’ve heard normies sayi...\n",
              "96  : $HTSC, EV Nickel battery play. $TSLA and $GM...\n",
              "97  1月記録\\n新規買い: $ZI $ZM \\n買い増し: $AMD\\n売り: $ADBE $TSLA\n",
              "98  : $HTSC, EV Nickel battery play. $TSLA and $GM...\n",
              "99  : $HTSC, Huge EV Nickel Sulphide play. $TSLA a...\n",
              "\n",
              "[100 rows x 1 columns]"
            ]
          },
          "metadata": {
            "tags": []
          },
          "execution_count": 6
        }
      ]
    },
    {
      "cell_type": "code",
      "metadata": {
        "colab": {
          "base_uri": "https://localhost:8080/",
          "height": 419
        },
        "id": "HfnMQwm0bA3i",
        "outputId": "7e8f56af-6d3c-433e-b84c-7af8afc68bea"
      },
      "source": [
        "# Create a function to get the subjectivity\n",
        "def getSubjectivity(text):\n",
        "   return TextBlob(text).sentiment.subjectivity\n",
        "\n",
        "# Create a function to get the polarity\n",
        "def getPolarity(text):\n",
        "   return  TextBlob(text).sentiment.polarity\n",
        "\n",
        "\n",
        "# Create two new columns 'Subjectivity' & 'Polarity'\n",
        "df['Subjectivity'] = df['Tweets'].apply(getSubjectivity)\n",
        "df['Polarity'] = df['Tweets'].apply(getPolarity)\n",
        "\n",
        "# Show the new dataframe with columns 'Subjectivity' & 'Polarity'\n",
        "df\n"
      ],
      "execution_count": 7,
      "outputs": [
        {
          "output_type": "execute_result",
          "data": {
            "text/html": [
              "<div>\n",
              "<style scoped>\n",
              "    .dataframe tbody tr th:only-of-type {\n",
              "        vertical-align: middle;\n",
              "    }\n",
              "\n",
              "    .dataframe tbody tr th {\n",
              "        vertical-align: top;\n",
              "    }\n",
              "\n",
              "    .dataframe thead th {\n",
              "        text-align: right;\n",
              "    }\n",
              "</style>\n",
              "<table border=\"1\" class=\"dataframe\">\n",
              "  <thead>\n",
              "    <tr style=\"text-align: right;\">\n",
              "      <th></th>\n",
              "      <th>Tweets</th>\n",
              "      <th>Subjectivity</th>\n",
              "      <th>Polarity</th>\n",
              "    </tr>\n",
              "  </thead>\n",
              "  <tbody>\n",
              "    <tr>\n",
              "      <th>0</th>\n",
              "      <td>_Enough: Premium brands with U.S. sales &amp;gt; 2...</td>\n",
              "      <td>0.500000</td>\n",
              "      <td>0.000000</td>\n",
              "    </tr>\n",
              "    <tr>\n",
              "      <th>1</th>\n",
              "      <td>Stocks to watch Feb. 8 thru Feb. 12 $GME $NFLX...</td>\n",
              "      <td>0.000000</td>\n",
              "      <td>0.000000</td>\n",
              "    </tr>\n",
              "    <tr>\n",
              "      <th>2</th>\n",
              "      <td>_Dollar: Over the next 5 years, what industry ...</td>\n",
              "      <td>0.250000</td>\n",
              "      <td>0.250000</td>\n",
              "    </tr>\n",
              "    <tr>\n",
              "      <th>3</th>\n",
              "      <td>1: I’m fully serious. \\n\\nI’ve heard normies s...</td>\n",
              "      <td>0.255556</td>\n",
              "      <td>-0.111111</td>\n",
              "    </tr>\n",
              "    <tr>\n",
              "      <th>4</th>\n",
              "      <td>: I think I will dump all my Crypto plus TSLA ...</td>\n",
              "      <td>0.000000</td>\n",
              "      <td>0.000000</td>\n",
              "    </tr>\n",
              "    <tr>\n",
              "      <th>...</th>\n",
              "      <td>...</td>\n",
              "      <td>...</td>\n",
              "      <td>...</td>\n",
              "    </tr>\n",
              "    <tr>\n",
              "      <th>95</th>\n",
              "      <td>I’m fully serious. \\n\\nI’ve heard normies sayi...</td>\n",
              "      <td>0.255556</td>\n",
              "      <td>-0.111111</td>\n",
              "    </tr>\n",
              "    <tr>\n",
              "      <th>96</th>\n",
              "      <td>: $HTSC, EV Nickel battery play. $TSLA and $GM...</td>\n",
              "      <td>0.000000</td>\n",
              "      <td>0.000000</td>\n",
              "    </tr>\n",
              "    <tr>\n",
              "      <th>97</th>\n",
              "      <td>1月記録\\n新規買い: $ZI $ZM \\n買い増し: $AMD\\n売り: $ADBE $TSLA</td>\n",
              "      <td>0.000000</td>\n",
              "      <td>0.000000</td>\n",
              "    </tr>\n",
              "    <tr>\n",
              "      <th>98</th>\n",
              "      <td>: $HTSC, EV Nickel battery play. $TSLA and $GM...</td>\n",
              "      <td>0.000000</td>\n",
              "      <td>0.000000</td>\n",
              "    </tr>\n",
              "    <tr>\n",
              "      <th>99</th>\n",
              "      <td>: $HTSC, Huge EV Nickel Sulphide play. $TSLA a...</td>\n",
              "      <td>0.900000</td>\n",
              "      <td>0.400000</td>\n",
              "    </tr>\n",
              "  </tbody>\n",
              "</table>\n",
              "<p>100 rows × 3 columns</p>\n",
              "</div>"
            ],
            "text/plain": [
              "                                               Tweets  Subjectivity  Polarity\n",
              "0   _Enough: Premium brands with U.S. sales &gt; 2...      0.500000  0.000000\n",
              "1   Stocks to watch Feb. 8 thru Feb. 12 $GME $NFLX...      0.000000  0.000000\n",
              "2   _Dollar: Over the next 5 years, what industry ...      0.250000  0.250000\n",
              "3   1: I’m fully serious. \\n\\nI’ve heard normies s...      0.255556 -0.111111\n",
              "4   : I think I will dump all my Crypto plus TSLA ...      0.000000  0.000000\n",
              "..                                                ...           ...       ...\n",
              "95  I’m fully serious. \\n\\nI’ve heard normies sayi...      0.255556 -0.111111\n",
              "96  : $HTSC, EV Nickel battery play. $TSLA and $GM...      0.000000  0.000000\n",
              "97  1月記録\\n新規買い: $ZI $ZM \\n買い増し: $AMD\\n売り: $ADBE $TSLA      0.000000  0.000000\n",
              "98  : $HTSC, EV Nickel battery play. $TSLA and $GM...      0.000000  0.000000\n",
              "99  : $HTSC, Huge EV Nickel Sulphide play. $TSLA a...      0.900000  0.400000\n",
              "\n",
              "[100 rows x 3 columns]"
            ]
          },
          "metadata": {
            "tags": []
          },
          "execution_count": 7
        }
      ]
    },
    {
      "cell_type": "code",
      "metadata": {
        "colab": {
          "base_uri": "https://localhost:8080/",
          "height": 419
        },
        "id": "tk11TdpwbGqH",
        "outputId": "1e74b06c-f3fa-4496-95df-5ed902dae0f8"
      },
      "source": [
        "# Create a function to compute negative (-1), neutral (0) and positive (+1) analysis\n",
        "def getAnalysis(score):\n",
        "  if score < 0:\n",
        "    return 'Negative'\n",
        "  elif score == 0:\n",
        "    return 'Neutral'\n",
        "  else:\n",
        "    return 'Positive'\n",
        "\n",
        "df['Analysis'] = df['Polarity'].apply(getAnalysis)\n",
        "\n",
        "# Show the dataframe\n",
        "df\n"
      ],
      "execution_count": 8,
      "outputs": [
        {
          "output_type": "execute_result",
          "data": {
            "text/html": [
              "<div>\n",
              "<style scoped>\n",
              "    .dataframe tbody tr th:only-of-type {\n",
              "        vertical-align: middle;\n",
              "    }\n",
              "\n",
              "    .dataframe tbody tr th {\n",
              "        vertical-align: top;\n",
              "    }\n",
              "\n",
              "    .dataframe thead th {\n",
              "        text-align: right;\n",
              "    }\n",
              "</style>\n",
              "<table border=\"1\" class=\"dataframe\">\n",
              "  <thead>\n",
              "    <tr style=\"text-align: right;\">\n",
              "      <th></th>\n",
              "      <th>Tweets</th>\n",
              "      <th>Subjectivity</th>\n",
              "      <th>Polarity</th>\n",
              "      <th>Analysis</th>\n",
              "    </tr>\n",
              "  </thead>\n",
              "  <tbody>\n",
              "    <tr>\n",
              "      <th>0</th>\n",
              "      <td>_Enough: Premium brands with U.S. sales &amp;gt; 2...</td>\n",
              "      <td>0.500000</td>\n",
              "      <td>0.000000</td>\n",
              "      <td>Neutral</td>\n",
              "    </tr>\n",
              "    <tr>\n",
              "      <th>1</th>\n",
              "      <td>Stocks to watch Feb. 8 thru Feb. 12 $GME $NFLX...</td>\n",
              "      <td>0.000000</td>\n",
              "      <td>0.000000</td>\n",
              "      <td>Neutral</td>\n",
              "    </tr>\n",
              "    <tr>\n",
              "      <th>2</th>\n",
              "      <td>_Dollar: Over the next 5 years, what industry ...</td>\n",
              "      <td>0.250000</td>\n",
              "      <td>0.250000</td>\n",
              "      <td>Positive</td>\n",
              "    </tr>\n",
              "    <tr>\n",
              "      <th>3</th>\n",
              "      <td>1: I’m fully serious. \\n\\nI’ve heard normies s...</td>\n",
              "      <td>0.255556</td>\n",
              "      <td>-0.111111</td>\n",
              "      <td>Negative</td>\n",
              "    </tr>\n",
              "    <tr>\n",
              "      <th>4</th>\n",
              "      <td>: I think I will dump all my Crypto plus TSLA ...</td>\n",
              "      <td>0.000000</td>\n",
              "      <td>0.000000</td>\n",
              "      <td>Neutral</td>\n",
              "    </tr>\n",
              "    <tr>\n",
              "      <th>...</th>\n",
              "      <td>...</td>\n",
              "      <td>...</td>\n",
              "      <td>...</td>\n",
              "      <td>...</td>\n",
              "    </tr>\n",
              "    <tr>\n",
              "      <th>95</th>\n",
              "      <td>I’m fully serious. \\n\\nI’ve heard normies sayi...</td>\n",
              "      <td>0.255556</td>\n",
              "      <td>-0.111111</td>\n",
              "      <td>Negative</td>\n",
              "    </tr>\n",
              "    <tr>\n",
              "      <th>96</th>\n",
              "      <td>: $HTSC, EV Nickel battery play. $TSLA and $GM...</td>\n",
              "      <td>0.000000</td>\n",
              "      <td>0.000000</td>\n",
              "      <td>Neutral</td>\n",
              "    </tr>\n",
              "    <tr>\n",
              "      <th>97</th>\n",
              "      <td>1月記録\\n新規買い: $ZI $ZM \\n買い増し: $AMD\\n売り: $ADBE $TSLA</td>\n",
              "      <td>0.000000</td>\n",
              "      <td>0.000000</td>\n",
              "      <td>Neutral</td>\n",
              "    </tr>\n",
              "    <tr>\n",
              "      <th>98</th>\n",
              "      <td>: $HTSC, EV Nickel battery play. $TSLA and $GM...</td>\n",
              "      <td>0.000000</td>\n",
              "      <td>0.000000</td>\n",
              "      <td>Neutral</td>\n",
              "    </tr>\n",
              "    <tr>\n",
              "      <th>99</th>\n",
              "      <td>: $HTSC, Huge EV Nickel Sulphide play. $TSLA a...</td>\n",
              "      <td>0.900000</td>\n",
              "      <td>0.400000</td>\n",
              "      <td>Positive</td>\n",
              "    </tr>\n",
              "  </tbody>\n",
              "</table>\n",
              "<p>100 rows × 4 columns</p>\n",
              "</div>"
            ],
            "text/plain": [
              "                                               Tweets  ...  Analysis\n",
              "0   _Enough: Premium brands with U.S. sales &gt; 2...  ...   Neutral\n",
              "1   Stocks to watch Feb. 8 thru Feb. 12 $GME $NFLX...  ...   Neutral\n",
              "2   _Dollar: Over the next 5 years, what industry ...  ...  Positive\n",
              "3   1: I’m fully serious. \\n\\nI’ve heard normies s...  ...  Negative\n",
              "4   : I think I will dump all my Crypto plus TSLA ...  ...   Neutral\n",
              "..                                                ...  ...       ...\n",
              "95  I’m fully serious. \\n\\nI’ve heard normies sayi...  ...  Negative\n",
              "96  : $HTSC, EV Nickel battery play. $TSLA and $GM...  ...   Neutral\n",
              "97  1月記録\\n新規買い: $ZI $ZM \\n買い増し: $AMD\\n売り: $ADBE $TSLA  ...   Neutral\n",
              "98  : $HTSC, EV Nickel battery play. $TSLA and $GM...  ...   Neutral\n",
              "99  : $HTSC, Huge EV Nickel Sulphide play. $TSLA a...  ...  Positive\n",
              "\n",
              "[100 rows x 4 columns]"
            ]
          },
          "metadata": {
            "tags": []
          },
          "execution_count": 8
        }
      ]
    },
    {
      "cell_type": "code",
      "metadata": {
        "colab": {
          "base_uri": "https://localhost:8080/",
          "height": 248
        },
        "id": "7qzLi1xobDu0",
        "outputId": "00557c4b-a168-48a9-ac42-5dc6877a05fd"
      },
      "source": [
        "# word cloud visualization\n",
        "allWords = ' '.join([twts for twts in df['Tweets']])\n",
        "wordCloud = WordCloud(width=500, height=300, random_state=21, max_font_size=110).generate(allWords)\n",
        "\n",
        "\n",
        "plt.imshow(wordCloud, interpolation=\"bilinear\")\n",
        "plt.axis('off')\n",
        "plt.show()\n"
      ],
      "execution_count": 9,
      "outputs": [
        {
          "output_type": "display_data",
          "data": {
            "image/png": "[encoded data removed]",
            "text/plain": [
              "<Figure size 432x288 with 1 Axes>"
            ]
          },
          "metadata": {
            "tags": [],
            "needs_background": "light"
          }
        }
      ]
    },
    {
      "cell_type": "code",
      "metadata": {
        "colab": {
          "base_uri": "https://localhost:8080/"
        },
        "id": "Bzkw-iO8bNiZ",
        "outputId": "b715f5f5-5c5e-445e-c493-ad35296caa4f"
      },
      "source": [
        "# Printing positive tweets \n",
        "print('Printing positive tweets:\\n')\n",
        "j=1\n",
        "sortedDF = df.sort_values(by=['Polarity']) #Sort the tweets\n",
        "for i in range(0, sortedDF.shape[0] ):\n",
        "  if( sortedDF['Analysis'][i] == 'Positive'):\n",
        "    print(str(j) + ') '+ sortedDF['Tweets'][i])\n",
        "    print()\n",
        "    j= j+1\n"
      ],
      "execution_count": 10,
      "outputs": [
        {
          "output_type": "stream",
          "text": [
            "Printing positive tweets:\n",
            "\n",
            "1) _Dollar: Over the next 5 years, what industry do you think will outperform most?\n",
            "\n",
            "EVs\n",
            "$TSLA\n",
            "$NIO\n",
            "$WKHS\n",
            "$CCIV\n",
            "\n",
            "Cashless Pymt\n",
            "$V…\n",
            "\n",
            "2) : These are our top picks for 2021 $PACB, $CSTL, $NVTA $CRSP, $APPS, $MGNI, $ROKU, $TSLA, $PYPL, $SHOP, $SE $SQ, $SKLZ,…\n",
            "\n",
            "3) _Dollar: Over the next 5 years, what industry do you think will outperform most?\n",
            "\n",
            "EVs\n",
            "$TSLA\n",
            "$NIO\n",
            "$WKHS\n",
            "$CCIV\n",
            "\n",
            "Cashless Pymt\n",
            "$V…\n",
            "\n",
            "4) _Dollar: Over the next 5 years, what industry do you think will outperform most?\n",
            "\n",
            "EVs\n",
            "$TSLA\n",
            "$NIO\n",
            "$WKHS\n",
            "$CCIV\n",
            "\n",
            "Cashless Pymt\n",
            "$V…\n",
            "\n",
            "5) : How many cars can you control with a phone? Not many, $NIO you can! Accumulate and go long we have only just begun.  $TSLA $A…\n",
            "\n",
            "6) 230: Charts of interest after a quick review.\n",
            "\n",
            "$TSM $PLUG $TSLA $ZI $NVCR $CRWD $ZS $HOLX $FLGT\n",
            "\n",
            "7) _Dollar: Over the next 5 years, what industry do you think will outperform most?\n",
            "\n",
            "EVs\n",
            "$TSLA\n",
            "$NIO\n",
            "$WKHS\n",
            "$CCIV\n",
            "\n",
            "Cashless Pymt\n",
            "$V…\n",
            "\n",
            "8) : $HTSC, Huge EV Nickel Sulphide play. $TSLA and $GM EV battery cells are made 90% out of Nickel Sulphide. Nickel is the…\n",
            "\n",
            "9) how do you guys like my new custom wall piece 🤩😉🚀 $TSLA \n",
            "\n",
            "10) An investing flaw I have is that I punish winners.\n",
            "\n",
            "Example - $TSLA, $PINS, $PTON \n",
            "\n",
            "Thankfully have large gains on… \n",
            "\n",
            "11) : Tesla Twitter &amp; YT are largely responsible for providing me with accurate information which afforded me the confidence to…\n",
            "\n",
            "12) _Dollar: Over the next 5 years, what industry do you think will outperform most?\n",
            "\n",
            "EVs\n",
            "$TSLA\n",
            "$NIO\n",
            "$WKHS\n",
            "$CCIV\n",
            "\n",
            "Cashless Pymt\n",
            "$V…\n",
            "\n",
            "13) : \"Contrary to popular belief, Elon Musk did not start Tesla.\"\n",
            "\n",
            "Education is important!\n",
            "$TSLA $TSLAQ\n",
            "Tesla founders Martin Eb…\n",
            "\n",
            "14) : Next week is a new one, I’m going into it optimistic, will focus on $tsla probs, we shall see what happens. It will 100%…\n",
            "\n",
            "15) : Love Cathy. She is great, so smart. Check this interview out. $TSLA tesla $ARKF \n",
            "\n",
            "16) 13031925: You should be proud of the company you are investing in - $TSLA \n",
            "\n",
            "\n",
            "17)  He just loves the strong community aspect of it. Which is what drives Doge and has for years. Look at… \n",
            "\n",
            "18) :  - Sandy Munro &amp; Elon Musk (Tesla Engineering Deep Dive)\n",
            "\n",
            "NEW\n",
            "\n",
            "$TSLA \n",
            "\n",
            "19) :    Follow the best voices for $TSLA investors talk. 📈❤️💰❤️🚘🚀\n",
            "\n",
            " \n",
            "\n",
            "20) _maestro:   Ok, enough already... Now go and invest in some $TSLA stock instead 😉\n",
            "\n",
            "21) : The first stock I ever bought was $TSLA in Aug 2018, three weeks before I got my Model 3. I put in about a quarter of my…\n",
            "\n",
            "22) :   Follow the best voices for $TSLA investors talk. 📈❤️💰❤️🚘🚀\n",
            "\n",
            "  \n",
            " Te…\n",
            "\n",
            "23) : \n",
            " let's get the mainstream publications to publish amazing tech that _inc\n",
            " has built &amp; how XVG c…\n",
            "\n",
            "24) SmartOptions® Unusual Activity Alert\n",
            "(Delayed)\n",
            "\n",
            "$TSLA $800 Calls\n",
            "06/18/2021 Exp\n",
            "\n",
            "Trade Volume: 310 Contracts\n",
            "\n",
            "$5,28… \n",
            "\n",
            "25) : How can anyone not say teslas are not the safest most advanced car ever made. There are so many safety features in sett…\n",
            "\n",
            "26) :  - Sandy Munro &amp; Elon Musk (Tesla Engineering Deep Dive)\n",
            "\n",
            "NEW\n",
            "\n",
            "$TSLA \n",
            "\n",
            "27)    Follow the best voices for $TSLA investors talk. 📈❤️💰❤️🚘🚀… \n",
            "\n",
            "28)   Ok, enough already... Now go and invest in some $TSLA stock instead 😉\n",
            "\n",
            "29) : The first stock I ever bought was $TSLA in Aug 2018, three weeks before I got my Model 3. I put in about a quarter of my…\n",
            "\n",
            "30)   Follow the best voices for $TSLA investors talk. 📈❤️💰❤️🚘🚀\n",
            "\n",
            "  \n",
            " Tesla ElonMusk\n",
            "\n",
            "31) :  - \n",
            "Cathie Wood (Ark Invest) on Tesla, Short Sellers &amp; Bitcoin\n",
            "\n",
            "NEW\n",
            "\n",
            "$TSLA Bitcoin  …\n",
            "\n",
            "32) Follow the best voices for $TSLA investors talk. 📈❤️💰❤️🚘🚀\n",
            "\n",
            "  \n",
            " Tesla ElonMusk\n",
            "\n",
            "33) Tesla, Inc. (TSLA) surprised the market with Q4 result. Goldman Sachs changed the rating to Outperform, as Tesla, I… \n",
            "\n",
            "34) : $HTSC, Huge EV Nickel Sulphide play. $TSLA and $GM EV battery cells are made 90% out of Nickel Sulphide. Nickel is the…\n",
            "\n"
          ],
          "name": "stdout"
        }
      ]
    },
    {
      "cell_type": "code",
      "metadata": {
        "colab": {
          "base_uri": "https://localhost:8080/"
        },
        "id": "GAA7pjS1bQI4",
        "outputId": "b62b5875-dd86-4975-a012-5c829dbffbed"
      },
      "source": [
        "# Printing negative tweets  \n",
        "print('Printing negative tweets:\\n')\n",
        "j=1\n",
        "sortedDF = df.sort_values(by=['Polarity'],ascending=False) #Sort the tweets\n",
        "for i in range(0, sortedDF.shape[0] ):\n",
        "  if( sortedDF['Analysis'][i] == 'Negative'):\n",
        "    print(str(j) + ') '+sortedDF['Tweets'][i])\n",
        "    print()\n",
        "    j=j+1\n"
      ],
      "execution_count": 11,
      "outputs": [
        {
          "output_type": "stream",
          "text": [
            "Printing negative tweets:\n",
            "\n",
            "1) 1: I’m fully serious. \n",
            "\n",
            "I’ve heard normies saying “bro, Elon Musks coin $DOGE is going to be big, next TSLA, buy it”. \n",
            "\n",
            "Wont end w…\n",
            "\n",
            "2) 1: I’m fully serious. \n",
            "\n",
            "I’ve heard normies saying “bro, Elon Musks coin $DOGE is going to be big, next TSLA, buy it”. \n",
            "\n",
            "Wont end w…\n",
            "\n",
            "3) : [PA1] First auto media to enter the second production line of Tesla Gigafactory Shanghai, Check out the China-Made Mo…\n",
            "\n",
            "4) 1: I’m fully serious. \n",
            "\n",
            "I’ve heard normies saying “bro, Elon Musks coin $DOGE is going to be big, next TSLA, buy it”. \n",
            "\n",
            "Wont end w…\n",
            "\n",
            "5) 1: I’m fully serious. \n",
            "\n",
            "I’ve heard normies saying “bro, Elon Musks coin $DOGE is going to be big, next TSLA, buy it”. \n",
            "\n",
            "Wont end w…\n",
            "\n",
            "6) 1: I’m fully serious. \n",
            "\n",
            "I’ve heard normies saying “bro, Elon Musks coin $DOGE is going to be big, next TSLA, buy it”. \n",
            "\n",
            "Wont end w…\n",
            "\n",
            "7) 1: I’m fully serious. \n",
            "\n",
            "I’ve heard normies saying “bro, Elon Musks coin $DOGE is going to be big, next TSLA, buy it”. \n",
            "\n",
            "Wont end w…\n",
            "\n",
            "8) : [PA1] First auto media to enter the second production line of Tesla Gigafactory Shanghai, Check out the China-Made Mo…\n",
            "\n",
            "9) 1: I’m fully serious. \n",
            "\n",
            "I’ve heard normies saying “bro, Elon Musks coin $DOGE is going to be big, next TSLA, buy it”. \n",
            "\n",
            "Wont end w…\n",
            "\n",
            "10) 1: I’m fully serious. \n",
            "\n",
            "I’ve heard normies saying “bro, Elon Musks coin $DOGE is going to be big, next TSLA, buy it”. \n",
            "\n",
            "Wont end w…\n",
            "\n",
            "11)  I'm the other way round, went all in $tsla 2015-2019, found the community on Twitter &amp; YouTube in 2020… \n",
            "\n",
            "12) 1: I’m fully serious. \n",
            "\n",
            "I’ve heard normies saying “bro, Elon Musks coin $DOGE is going to be big, next TSLA, buy it”. \n",
            "\n",
            "Wont end w…\n",
            "\n",
            "13) Week review\n",
            "Long positions : $aapl, $tsla, $atos, bitcoin , ethereum, $goev, $riot, $mara, $arkk, $arkg, $f\n",
            "Short position : $vxx\n",
            "\n",
            "14) 1: I’m fully serious. \n",
            "\n",
            "I’ve heard normies saying “bro, Elon Musks coin $DOGE is going to be big, next TSLA, buy it”. \n",
            "\n",
            "Wont end w…\n",
            "\n",
            "15) 1: I’m fully serious. \n",
            "\n",
            "I’ve heard normies saying “bro, Elon Musks coin $DOGE is going to be big, next TSLA, buy it”. \n",
            "\n",
            "Wont end w…\n",
            "\n",
            "16) 1: I’m fully serious. \n",
            "\n",
            "I’ve heard normies saying “bro, Elon Musks coin $DOGE is going to be big, next TSLA, buy it”. \n",
            "\n",
            "Wont end w…\n",
            "\n",
            "17) 1: I’m fully serious. \n",
            "\n",
            "I’ve heard normies saying “bro, Elon Musks coin $DOGE is going to be big, next TSLA, buy it”. \n",
            "\n",
            "Wont end w…\n",
            "\n",
            "18) 1: I’m fully serious. \n",
            "\n",
            "I’ve heard normies saying “bro, Elon Musks coin $DOGE is going to be big, next TSLA, buy it”. \n",
            "\n",
            "Wont end w…\n",
            "\n",
            "19) I’m fully serious. \n",
            "\n",
            "I’ve heard normies saying “bro, Elon Musks coin $DOGE is going to be big, next TSLA, buy it”. \n",
            "\n",
            "Wont end well\n",
            "\n"
          ],
          "name": "stdout"
        }
      ]
    },
    {
      "cell_type": "code",
      "metadata": {
        "colab": {
          "base_uri": "https://localhost:8080/",
          "height": 405
        },
        "id": "pOaMUw32bTqo",
        "outputId": "8bbca8a1-cf6b-4e77-8dfa-63f1f2205ad4"
      },
      "source": [
        "# Plotting \n",
        "plt.figure(figsize=(8,6)) \n",
        "for i in range(0, df.shape[0]):\n",
        "  plt.scatter(df[\"Polarity\"][i], df[\"Subjectivity\"][i], color='Blue') \n",
        "# plt.scatter(x,y,color)   \n",
        "plt.title('Sentiment Analysis') \n",
        "plt.xlabel('Polarity') \n",
        "plt.ylabel('Subjectivity') \n",
        "plt.show()\n"
      ],
      "execution_count": 12,
      "outputs": [
        {
          "output_type": "display_data",
          "data": {
            "image/png": "[encoded data removed]",
            "text/plain": [
              "<Figure size 576x432 with 1 Axes>"
            ]
          },
          "metadata": {
            "tags": [],
            "needs_background": "light"
          }
        }
      ]
    },
    {
      "cell_type": "code",
      "metadata": {
        "colab": {
          "base_uri": "https://localhost:8080/"
        },
        "id": "95x8CPvzbWGH",
        "outputId": "6b3dc584-5754-45c5-d393-5b9c16128dac"
      },
      "source": [
        "# Print the percentage of positive tweets\n",
        "ptweets = df[df.Analysis == 'Positive']\n",
        "ptweets = ptweets['Tweets']\n",
        "ptweets\n",
        "\n",
        "round( (ptweets.shape[0] / df.shape[0]) * 100 , 1)\n"
      ],
      "execution_count": 13,
      "outputs": [
        {
          "output_type": "execute_result",
          "data": {
            "text/plain": [
              "34.0"
            ]
          },
          "metadata": {
            "tags": []
          },
          "execution_count": 13
        }
      ]
    },
    {
      "cell_type": "code",
      "metadata": {
        "colab": {
          "base_uri": "https://localhost:8080/"
        },
        "id": "FzE3yx9DbZdI",
        "outputId": "bab1f2d5-8c22-4e05-a34b-14fadde494d2"
      },
      "source": [
        "\n",
        "# Print the percentage of negative tweets\n",
        "ntweets = df[df.Analysis == 'Negative']\n",
        "ntweets = ntweets['Tweets']\n",
        "ntweets\n",
        "\n",
        "round( (ntweets.shape[0] / df.shape[0]) * 100, 1)"
      ],
      "execution_count": 14,
      "outputs": [
        {
          "output_type": "execute_result",
          "data": {
            "text/plain": [
              "19.0"
            ]
          },
          "metadata": {
            "tags": []
          },
          "execution_count": 14
        }
      ]
    },
    {
      "cell_type": "code",
      "metadata": {
        "colab": {
          "base_uri": "https://localhost:8080/"
        },
        "id": "kph6ER3jbb0U",
        "outputId": "fd2c6090-cd3d-4968-e88f-f9ff218d4766"
      },
      "source": [
        "# Show the value counts\n",
        "df['Analysis'].value_counts()\n"
      ],
      "execution_count": 15,
      "outputs": [
        {
          "output_type": "execute_result",
          "data": {
            "text/plain": [
              "Neutral     47\n",
              "Positive    34\n",
              "Negative    19\n",
              "Name: Analysis, dtype: int64"
            ]
          },
          "metadata": {
            "tags": []
          },
          "execution_count": 15
        }
      ]
    },
    {
      "cell_type": "code",
      "metadata": {
        "colab": {
          "base_uri": "https://localhost:8080/",
          "height": 331
        },
        "id": "WCucSOnmbdmt",
        "outputId": "fc5d212c-39d9-4ff6-9a64-b06b4b811534"
      },
      "source": [
        "# Plotting and visualizing the counts\n",
        "plt.title('Sentiment Analysis')\n",
        "plt.xlabel('Sentiment')\n",
        "plt.ylabel('Counts')\n",
        "df['Analysis'].value_counts().plot(kind = 'bar')\n",
        "plt.show()\n"
      ],
      "execution_count": 16,
      "outputs": [
        {
          "output_type": "display_data",
          "data": {
            "image/png": "[encoded data removed]",
            "text/plain": [
              "<Figure size 432x288 with 1 Axes>"
            ]
          },
          "metadata": {
            "tags": [],
            "needs_background": "light"
          }
        }
      ]
    }
  ]
}